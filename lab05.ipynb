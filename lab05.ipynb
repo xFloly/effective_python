{
 "cells": [
  {
   "cell_type": "markdown",
   "metadata": {},
   "source": [
    "## Lab 05"
   ]
  },
  {
   "cell_type": "markdown",
   "metadata": {},
   "source": [
    "#### Elementy programowania funkcyjnego\n",
    "Zaimplementuj poniższe funkcje tak, aby działały identycznie jak ich wbudowane opdowiedniki. Pamiętaj, że w Pythonie3 te funkcje zwracają generatory. W razie wątpliwości co do nietypowego zachowania tych funkcji odsyłam do <a href=\"https://docs.python.org/3/library/functions.html\">dokumentacji</a>."
   ]
  },
  {
   "cell_type": "markdown",
   "metadata": {},
   "source": [
    "## Zadanie 1"
   ]
  },
  {
   "cell_type": "code",
   "execution_count": 1,
   "metadata": {},
   "outputs": [
    {
     "name": "stdout",
     "output_type": "stream",
     "text": [
      "True\n",
      "True\n",
      "True\n",
      "True\n",
      "True\n"
     ]
    }
   ],
   "source": [
    "def _filter(func=None, iterable=[]):\n",
    "    \"\"\"Filtruje z iterable elementy, dla których funkcja func zwraca False zostawiając pozostałe\"\"\"\n",
    "    \n",
    "    for item in iterable:\n",
    "        try:\n",
    "            if func(item):\n",
    "                yield item\n",
    "        except:\n",
    "            if item:\n",
    "                yield item\n",
    "            \n",
    "from types import GeneratorType\n",
    "print(isinstance(_filter(), GeneratorType))\n",
    "print(list(filter(lambda x: x > 0, [0, -3, 1, 6])) == list(_filter(lambda x: x > 0, [0, -3, 1, 6])))\n",
    "print(list(filter(None, [2, -3, 1, 6])) == list(_filter(None, [2, -3, 1, 6])))\n",
    "print(list(filter(None, [True, False, False])) == list(_filter(None, [True, False, False])))\n",
    "print(list(filter(None, [0, -3, 1, 6])) == list(_filter(None, [0, -3, 1, 6])))"
   ]
  },
  {
   "cell_type": "markdown",
   "metadata": {},
   "source": [
    "## Zadanie 2"
   ]
  },
  {
   "cell_type": "code",
   "execution_count": 2,
   "metadata": {},
   "outputs": [
    {
     "name": "stdout",
     "output_type": "stream",
     "text": [
      "True\n",
      "True\n",
      "True\n"
     ]
    }
   ],
   "source": [
    "def _map(func, iterable, *args):\n",
    "    \"\"\"Mapuje elementy iterable na wartości fuknckji func\"\"\"\n",
    "    \n",
    "    for item in zip(iterable, *args):\n",
    "        yield func(*item)\n",
    "\n",
    "\n",
    "from types import GeneratorType\n",
    "print(isinstance(_map(None, None), GeneratorType))\n",
    "print(list(map(lambda x: x.upper(), 'ala ma kota')) == list(_map(lambda x: x.upper(), 'ala ma kota')))\n",
    "print(list(map(lambda x,y: x+y, [1,2,3,4], [5,6,7,8])) == list(_map(lambda x,y: x+y, [1,2,3,4], [5,6,7,8])))\n",
    "#print(list(map(lambda x,y: x+y, [1,2,3,4], [5,6,7])) == list(_map(lambda x,y: x+y, [1,2,3,4], [5,6,7])))\n",
    "#print(list(map(lambda x,y: x+y, [1,2,3], [5,6,7,8])) == list(_map(lambda x,y: x+y, [1,2,3], [5,6,7,8])))"
   ]
  },
  {
   "cell_type": "markdown",
   "metadata": {},
   "source": [
    "## Zadanie 3"
   ]
  },
  {
   "cell_type": "markdown",
   "metadata": {},
   "source": [
    "Napisz poniższą funkcję korzystając wyłącznie z funkcji reduce, map i filter oraz lambd"
   ]
  },
  {
   "cell_type": "code",
   "execution_count": 3,
   "metadata": {},
   "outputs": [
    {
     "name": "stdout",
     "output_type": "stream",
     "text": [
      "True\n",
      "True\n"
     ]
    }
   ],
   "source": [
    "def reverse_nonpalindromes(words):\n",
    "    \"\"\"Zwraca listę odwróconych słowa które nie są palindromami. \n",
    "    Palindromy zostają pominięte\"\"\"\n",
    "    \n",
    "    return list(map(lambda word: word[::-1], filter(lambda word: word[::-1] != word, words)))\n",
    "\n",
    "print(reverse_nonpalindromes([\"aa\", \"ab\"])==[\"ba\"])\n",
    "print(reverse_nonpalindromes([\"eht\", \"dog\", \"ala\"])==[\"the\", \"god\"])"
   ]
  },
  {
   "cell_type": "markdown",
   "metadata": {},
   "source": [
    "## Zadanie 4 "
   ]
  },
  {
   "cell_type": "markdown",
   "metadata": {},
   "source": [
    "Przepisz poniższą funkcję korzystając wyłącznie z funkcji reduce, map i filter oraz lambd"
   ]
  },
  {
   "cell_type": "code",
   "execution_count": 4,
   "metadata": {},
   "outputs": [
    {
     "name": "stdout",
     "output_type": "stream",
     "text": [
      "True\n",
      "True\n"
     ]
    }
   ],
   "source": [
    "from functools import reduce\n",
    "\n",
    "def squares_of_odds(values):\n",
    "    \"\"\"Zwraca sumę kwadratów nieparzystych liczb\"\"\"\n",
    "    #return sum(v**2 for v in values if v%2)\n",
    "    \n",
    "    return reduce(lambda x,y: x+y, map(lambda x: x**2, filter(lambda x: x%2, values)))\n",
    "\n",
    "\n",
    "print(squares_of_odds([1,2,3,4,5,6])==35)\n",
    "print(squares_of_odds([10, 13, 5, 6])==194)"
   ]
  },
  {
   "cell_type": "markdown",
   "metadata": {},
   "source": [
    "## Zadanie 5"
   ]
  },
  {
   "cell_type": "markdown",
   "metadata": {},
   "source": [
    "Przepisz poniższą funkcję korzystając wyłącznie z funkcji reduce, map i filter oraz lambd"
   ]
  },
  {
   "cell_type": "code",
   "execution_count": 5,
   "metadata": {},
   "outputs": [
    {
     "name": "stdout",
     "output_type": "stream",
     "text": [
      "True\n",
      "True\n",
      "True\n",
      "True\n"
     ]
    }
   ],
   "source": [
    "def all_are_positive(numbers):\n",
    "    \"\"\"zwraca czy wszystkie liczby są dodatnie\"\"\"\n",
    "    #return all(n>0 for n in numbers)\n",
    "    return reduce(lambda x, y: x and y>0, numbers, True)\n",
    "\n",
    "print(all_are_positive([])) #PS: tu sie im wykraczy bez inicjalizatora :)\n",
    "print(all_are_positive([1,2,3]))\n",
    "print(not all_are_positive([-1,2,3]))\n",
    "print(not all_are_positive([5,6,-2,1]))\n"
   ]
  },
  {
   "cell_type": "markdown",
   "metadata": {},
   "source": [
    "## Zadanie 6 "
   ]
  },
  {
   "cell_type": "markdown",
   "metadata": {},
   "source": [
    "Przepisz poniższą funkcję korzystając wyłącznie z funkcji reduce, map i filter oraz lambd"
   ]
  },
  {
   "cell_type": "code",
   "execution_count": 6,
   "metadata": {},
   "outputs": [
    {
     "name": "stdout",
     "output_type": "stream",
     "text": [
      "True\n",
      "True\n",
      "True\n"
     ]
    }
   ],
   "source": [
    "def flatten(lists):\n",
    "    #return [elem for l in lists for elem in l]\n",
    "    return list(reduce(lambda a,b: a+b, lists, []))\n",
    "\n",
    "print(flatten([[]])==[])\n",
    "print(flatten([[1,2],[3,4]])==[1,2,3,4])\n",
    "print(flatten([[\"1\", 1.1],[]])==[\"1\", 1.1])"
   ]
  },
  {
   "cell_type": "markdown",
   "metadata": {},
   "source": [
    "#### Jednolinijkowce\n",
    "W poniższej serii zadań **nie** używaj list/dict/set comprehension, zamiast tego użyj paradygmatu funkcyjnego. Każde rozwiązanie powinno być jednolinijkowe."
   ]
  },
  {
   "cell_type": "markdown",
   "metadata": {},
   "source": [
    "## Zadanie 7"
   ]
  },
  {
   "cell_type": "code",
   "execution_count": 7,
   "metadata": {},
   "outputs": [
    {
     "name": "stdout",
     "output_type": "stream",
     "text": [
      "True\n",
      "True\n"
     ]
    }
   ],
   "source": [
    "def celsius_to_fahrenheit(x):\n",
    "    \"\"\"Konwertuje liste temperatur w stopniach Celsjusza do skali Fahrenheita\"\"\"\n",
    "    return map(lambda data: 9/5 * data + 32, x)\n",
    "\n",
    "print(list(celsius_to_fahrenheit([0, 10, 100])) == [32.0, 50.0, 212.0])\n",
    "print(list(celsius_to_fahrenheit([-123, 0])) == [-189.4, 32.0])"
   ]
  },
  {
   "cell_type": "markdown",
   "metadata": {},
   "source": [
    "## Zadanie 8 "
   ]
  },
  {
   "cell_type": "code",
   "execution_count": 8,
   "metadata": {},
   "outputs": [
    {
     "name": "stdout",
     "output_type": "stream",
     "text": [
      "True\n",
      "True\n",
      "True\n"
     ]
    }
   ],
   "source": [
    "from functools import reduce\n",
    "\n",
    "def product_greater_than(x, k=0):\n",
    "    \"\"\"Zwraca iloczyn liczb w liście x większych od k\"\"\"\n",
    "    return reduce(lambda x, y: x * y, filter(lambda x: x > k, x))\n",
    "\n",
    "print(product_greater_than([1, 2, 3]) == 6)\n",
    "print(product_greater_than([1, 2, 3], 2) == 3)\n",
    "print(product_greater_than([-4, 5, 10, 23, 123], -5) == -565800)"
   ]
  },
  {
   "cell_type": "markdown",
   "metadata": {},
   "source": [
    "## Zadanie 9 "
   ]
  },
  {
   "cell_type": "code",
   "execution_count": 9,
   "metadata": {},
   "outputs": [
    {
     "name": "stdout",
     "output_type": "stream",
     "text": [
      "True\n",
      "True\n",
      "True\n"
     ]
    }
   ],
   "source": [
    "from functools import reduce\n",
    "\n",
    "def create_sentence(x, k=0):\n",
    "    \"\"\"Łączy słowa (o długości co najmniej k) z listy x w zdanie - nie używa reduce\"\"\"\n",
    "    #return reduce(lambda x, y: x + \" \" + y, filter(lambda x: len(x) >= k, x))\n",
    "    return \" \".join(filter(lambda x: len(x) >= k, x))\n",
    "\n",
    "print(create_sentence(['ala', 'ma', 'kota']) == 'ala ma kota')\n",
    "print(create_sentence(['ala']) == 'ala')\n",
    "print(create_sentence(['ala', 'ma', 'pieknego', 'kota'], k=3) == 'ala pieknego kota')"
   ]
  },
  {
   "cell_type": "markdown",
   "metadata": {},
   "source": [
    "## Zadanie 10"
   ]
  },
  {
   "cell_type": "code",
   "execution_count": 10,
   "metadata": {},
   "outputs": [
    {
     "name": "stdout",
     "output_type": "stream",
     "text": [
      "True\n",
      "True\n",
      "True\n",
      "True\n"
     ]
    }
   ],
   "source": [
    "def tuple_if_sum_greater(k, *lists):\n",
    "    \"\"\"Zwraca k-elementową krotke składającą się z kolejnych elementów list podanych jako arguemnty pozycyjne, \n",
    "       jeżeli ich suma jest większa niż parametr k\"\"\"\n",
    "    \n",
    "    return filter(lambda x: sum(x) > k , zip(*lists))\n",
    "    \n",
    "print(list(tuple_if_sum_greater(0, [1,2,3])) == [(1,),(2,),(3,)])\n",
    "print(list(tuple_if_sum_greater(4, [1,2,3], [2,3,4])) == [(2,3),(3,4)])\n",
    "print(list(tuple_if_sum_greater(10, [1,2,3], [2,3,4])) == [])\n",
    "print(list(tuple_if_sum_greater(0, [1,2], [3,4], [5,6])) == [(1,3,5), (2,4,6)])"
   ]
  },
  {
   "cell_type": "markdown",
   "metadata": {},
   "source": [
    "## Zadanie 11"
   ]
  },
  {
   "cell_type": "code",
   "execution_count": 11,
   "metadata": {},
   "outputs": [
    {
     "name": "stdout",
     "output_type": "stream",
     "text": [
      "True\n",
      "True\n",
      "True\n"
     ]
    }
   ],
   "source": [
    "from math import sqrt\n",
    "\n",
    "def primes(N):\n",
    "    \"\"\"Zwraca zbiór liczb pierwszych od 0 do N włącznie\"\"\"\n",
    "    #return [i for i in range(2, n+1) if all([i % j != 0 for j in range(2, int(sqrt(i)) + 1)]]\n",
    "\n",
    "    return set(filter(lambda x: reduce(lambda y,i: y and x%i, range(2, int(sqrt(x)) + 1), True), range(2,N+1)))\n",
    "\n",
    "print(primes(5) == {2, 3, 5})\n",
    "print(primes(10) == {2, 3, 5, 7})\n",
    "print(primes(100) == {2, 3, 5, 7, 11, 13, 17, 19, 23, 29, 31, 37, 41,\n",
    "                      43, 47, 53, 59, 61, 67, 71, 73, 79, 83, 89, 97})"
   ]
  }
 ],
 "metadata": {
  "kernelspec": {
   "display_name": "Python 3 (ipykernel)",
   "language": "python",
   "name": "python3"
  },
  "language_info": {
   "codemirror_mode": {
    "name": "ipython",
    "version": 3
   },
   "file_extension": ".py",
   "mimetype": "text/x-python",
   "name": "python",
   "nbconvert_exporter": "python",
   "pygments_lexer": "ipython3",
   "version": "3.11.5"
  }
 },
 "nbformat": 4,
 "nbformat_minor": 2
}
