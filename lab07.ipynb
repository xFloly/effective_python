{
 "cells": [
  {
   "cell_type": "markdown",
   "metadata": {},
   "source": [
    "# Lab 07"
   ]
  },
  {
   "cell_type": "markdown",
   "metadata": {},
   "source": [
    "## Zadanie 1"
   ]
  },
  {
   "cell_type": "markdown",
   "metadata": {},
   "source": [
    "Przygotuj demo programu znajdującego miejsca zerowe metodą Newtona. Wykorzystując `argparse` ([link](https://docs.python.org/3.6/library/argparse.html#module-argparse)) lub `optparse` ([link](https://docs.python.org/3.6/library/optparse.html)) obsłuż:\n",
    "- ustalane punktu startowego,\n",
    "- wielkość kroku w pochodnej,\n",
    "- ilość kroków metody,\n",
    "- dokładność\n",
    "- pomoc\n",
    "\n",
    "Program uruchamiamy podając, np.:"
   ]
  },
  {
   "cell_type": "markdown",
   "metadata": {},
   "source": [
    "`./newton.py x**2+x+1 -h 0.00001`"
   ]
  },
  {
   "cell_type": "code",
   "execution_count": 1,
   "metadata": {},
   "outputs": [
    {
     "name": "stdout",
     "output_type": "stream",
     "text": [
      "Found root at 1.00000002018138 after 6 iterations\n"
     ]
    }
   ],
   "source": [
    "!python3 lab07_files/newton.py x**2-1 -s 7"
   ]
  },
  {
   "cell_type": "markdown",
   "metadata": {},
   "source": [
    "## Zadanie 2"
   ]
  },
  {
   "cell_type": "markdown",
   "metadata": {},
   "source": [
    "Zadanie należy wykonać wykorzystując program `BagOfWords` z poprzednich zajęć.\n",
    "\n",
    "\n",
    "Przerób ją tak, żeby interpunkcja, cyfry i wszelkie inne znaki nie przeszkadzały w parsowaniu tekstu. Uruchom ja na [tekście hamleta](http://www.gutenberg.org/cache/epub/1787/pg1787.txt). Ile razy występuje słowo hamlet? Jak brzmi 10 najczęściej występujących słów?"
   ]
  },
  {
   "cell_type": "code",
   "execution_count": 2,
   "metadata": {},
   "outputs": [],
   "source": [
    "from collections import defaultdict\n",
    "import string\n",
    "import json\n",
    "\n",
    "class BagOfWords(object):\n",
    "\n",
    "    def __init__(self, source=None):\n",
    "        self._dict = defaultdict(int)\n",
    "        \n",
    "        if source:\n",
    "            if isinstance(source, str):\n",
    "                self.count_words_in_line(source)      \n",
    "            elif hasattr(source, 'read'):\n",
    "                for line in source:\n",
    "                    self.count_words_in_line(line)\n",
    "            elif isinstance(source, self.__class__):\n",
    "                self._dict = source._dict.copy()\n",
    "                \n",
    "    def count_words_in_line(self, line):\n",
    "        translator = str.maketrans(string.punctuation + string.digits, \" \" * 42, \"\")\n",
    "        line = line.translate(translator).lower()\n",
    "        for word in line.split():\n",
    "            if word.isalpha():\n",
    "                self._dict[word] += 1\n",
    "    \n",
    "    def __contains__(self, word):\n",
    "        return word in self._dict\n",
    "    \n",
    "    def __iter__(self):\n",
    "        return iter(sorted(self._dict, key=lambda word: self._dict[word], reverse = True))\n",
    "    \n",
    "    def __add__(self, other):\n",
    "        if isinstance(other, self.__class__):\n",
    "            combined_bag = BagOfWords(self)\n",
    "            for word, count in other._dict.items():\n",
    "                combined_bag._dict[word] += count\n",
    "            return combined_bag\n",
    "        else:\n",
    "            return NotImplemented\n",
    "        \n",
    "    def __getitem__(self, key):\n",
    "        if isinstance(key, str):\n",
    "            key = key.lower()\n",
    "            if key in self._dict:\n",
    "                return self._dict[key]\n",
    "            else:\n",
    "                raise KeyError(key)\n",
    "        else:\n",
    "            raise TypeError\n",
    "\n",
    "    def __setitem__(self, key, value):\n",
    "        if isinstance(key, str):\n",
    "            key = key.lower()\n",
    "            if isinstance (value, int):\n",
    "                if key in self._dict:\n",
    "                    self._dict[key] = value\n",
    "                else:\n",
    "                    raise KeyError(key)\n",
    "            else:\n",
    "                raise ValueError(value)\n",
    "        else:\n",
    "            raise TypeError\n",
    "      \n",
    "    def __str__(self):\n",
    "        return ', '.join(f'{k}:{v}' for k,v in self._dict.items())\n",
    "    \n",
    "    def save(self, filename):\n",
    "        with open(filename, 'w') as file:\n",
    "            json.dump(self._dict, file)\n",
    "\n",
    "    def load(self, filename):\n",
    "        with open(filename, 'r') as file:\n",
    "            data = json.load(file)\n",
    "        self._dict = defaultdict(int, data)"
   ]
  },
  {
   "cell_type": "code",
   "execution_count": 3,
   "metadata": {},
   "outputs": [],
   "source": [
    "import requests\n",
    "\n",
    "url = \"https://www.gutenberg.org/cache/epub/1787/pg1787.txt\"\n",
    "\n",
    "response = requests.get(url)\n",
    "hamlet_text = response.text\n",
    "\n",
    "hamlet_bag = BagOfWords(hamlet_text)"
   ]
  },
  {
   "cell_type": "code",
   "execution_count": 4,
   "metadata": {},
   "outputs": [
    {
     "name": "stdout",
     "output_type": "stream",
     "text": [
      "Liczba wystąpień słowa 'hamlet': 125\n",
      "10 najczęściej występujących słów:\n",
      "the 1348\n",
      "and 1106\n",
      "to 888\n",
      "of 887\n",
      "you 664\n",
      "a 646\n",
      "i 631\n",
      "in 520\n",
      "my 520\n",
      "it 447\n"
     ]
    }
   ],
   "source": [
    "print(\"Liczba wystąpień słowa 'hamlet':\", hamlet_bag['hamlet'])\n",
    "\n",
    "print(\"10 najczęściej występujących słów:\")\n",
    "for word in list(hamlet_bag)[:10]:\n",
    "    print(word, hamlet_bag[word])"
   ]
  },
  {
   "cell_type": "markdown",
   "metadata": {},
   "source": [
    "## Zadanie 3"
   ]
  },
  {
   "cell_type": "markdown",
   "metadata": {},
   "source": [
    "\n",
    "Wykorzystując `pickle` zapisz i odczytaj klasy z poprzedniego zadania nakarmonej Hamletem. Porównaj metody i rozmiar."
   ]
  },
  {
   "cell_type": "code",
   "execution_count": 5,
   "metadata": {},
   "outputs": [],
   "source": [
    "import pickle\n",
    "\n",
    "with open('lab07_files/hamlet.pickle', 'wb') as file:\n",
    "    pickle.dump(hamlet_bag, file)"
   ]
  },
  {
   "cell_type": "code",
   "execution_count": 6,
   "metadata": {},
   "outputs": [
    {
     "name": "stdout",
     "output_type": "stream",
     "text": [
      "Liczba wystąpień słowa 'hamlet': 125\n",
      "10 najczęściej występujących słów:\n",
      "the 1348\n",
      "and 1106\n",
      "to 888\n",
      "of 887\n",
      "you 664\n",
      "a 646\n",
      "i 631\n",
      "in 520\n",
      "my 520\n",
      "it 447\n"
     ]
    }
   ],
   "source": [
    "with open('lab07_files/hamlet.pickle', 'rb') as file:\n",
    "    hamlet_bag2: BagOfWords = pickle.load(file)\n",
    "\n",
    "print(\"Liczba wystąpień słowa 'hamlet':\", hamlet_bag2['hamlet'])\n",
    "\n",
    "print(\"10 najczęściej występujących słów:\")\n",
    "for word in list(hamlet_bag2)[:10]:\n",
    "    print(word, hamlet_bag2[word])"
   ]
  },
  {
   "cell_type": "code",
   "execution_count": 7,
   "metadata": {},
   "outputs": [
    {
     "name": "stdout",
     "output_type": "stream",
     "text": [
      "Original BagOfWords: 56 bytes\n",
      "Loaded BagOfWords: 56 bytes\n"
     ]
    }
   ],
   "source": [
    "import sys\n",
    "print(\"Original BagOfWords:\", sys.getsizeof(hamlet_bag), \"bytes\")\n",
    "print(\"Loaded BagOfWords:\", sys.getsizeof(hamlet_bag2), \"bytes\")"
   ]
  },
  {
   "cell_type": "markdown",
   "metadata": {},
   "source": [
    "## Zadanie 4"
   ]
  },
  {
   "cell_type": "markdown",
   "metadata": {},
   "source": [
    "Wykorzystując [https://gist.github.com/pamelafox/986163](https://gist.github.com/pamelafox/986163) podaj aktualną godzinę we:\n",
    "- wszystkich krajach, wyświetlając je zgrupowane względem kontynentów,\n",
    "- przeprowadź symulacyjne wyświetlanie kolejnych krajów w miarę jak w danym kraju wybija północ, opóżnienie wyświetlania ustaw proporcjonalne do realnego czasu"
   ]
  },
  {
   "cell_type": "code",
   "execution_count": 8,
   "metadata": {},
   "outputs": [],
   "source": [
    "from lab07_files.countryinfo import countries\n",
    "from datetime import datetime\n",
    "import pytz\n",
    "import time"
   ]
  },
  {
   "cell_type": "code",
   "execution_count": 9,
   "metadata": {
    "scrolled": true
   },
   "outputs": [
    {
     "name": "stdout",
     "output_type": "stream",
     "text": [
      "kontynent: Africa, kraj: Angola czas: ['2023-11-13 19:44:12.105710+01:00']\n",
      "kontynent: Africa, kraj: Burkina Faso czas: ['2023-11-13 18:44:12.105710+00:00']\n",
      "kontynent: Africa, kraj: Burundi czas: ['2023-11-13 20:44:12.105710+02:00']\n",
      "kontynent: Africa, kraj: Benin czas: ['2023-11-13 19:44:12.105710+01:00']\n",
      "kontynent: Africa, kraj: Botswana czas: ['2023-11-13 20:44:12.105710+02:00']\n",
      "kontynent: Africa, kraj: Democratic Republic of the Congo czas: ['2023-11-13 19:44:12.105710+01:00', '2023-11-13 20:44:12.105710+02:00']\n",
      "kontynent: Africa, kraj: Republic of the Congo czas: ['2023-11-13 19:44:12.105710+01:00']\n",
      "kontynent: Africa, kraj: CÃ´te d'Ivoire czas: ['2023-11-13 18:44:12.105710+00:00']\n",
      "kontynent: Africa, kraj: Cameroon czas: ['2023-11-13 19:44:12.105710+01:00']\n",
      "kontynent: Africa, kraj: Cape Verde czas: ['2023-11-13 17:44:12.105710-01:00']\n",
      "kontynent: Africa, kraj: Djibouti czas: ['2023-11-13 21:44:12.105710+03:00']\n",
      "kontynent: Africa, kraj: Egypt czas: ['2023-11-13 20:44:12.105710+02:00']\n",
      "kontynent: Africa, kraj: Eritrea czas: ['2023-11-13 21:44:12.105710+03:00']\n",
      "kontynent: Africa, kraj: Ethiopia czas: ['2023-11-13 21:44:12.105710+03:00']\n",
      "kontynent: Africa, kraj: Gabon czas: ['2023-11-13 19:44:12.105710+01:00']\n",
      "kontynent: Africa, kraj: Ghana czas: ['2023-11-13 18:44:12.105710+00:00']\n",
      "kontynent: Africa, kraj: The Gambia czas: ['2023-11-13 18:44:12.105710+00:00']\n",
      "kontynent: Africa, kraj: Guinea czas: ['2023-11-13 18:44:12.105710+00:00']\n",
      "kontynent: Africa, kraj: Guinea-Bissau czas: ['2023-11-13 18:44:12.105710+00:00']\n",
      "kontynent: Africa, kraj: Kenya czas: ['2023-11-13 21:44:12.105710+03:00']\n",
      "kontynent: Africa, kraj: Liberia czas: ['2023-11-13 18:44:12.105710+00:00']\n",
      "kontynent: Africa, kraj: Lesotho czas: ['2023-11-13 20:44:12.105710+02:00']\n",
      "kontynent: Africa, kraj: Libya czas: ['2023-11-13 20:44:12.105710+02:00']\n",
      "kontynent: Africa, kraj: Madagascar czas: ['2023-11-13 21:44:12.105710+03:00']\n",
      "kontynent: Africa, kraj: Mali czas: ['2023-11-13 18:44:12.105710+00:00']\n",
      "kontynent: Africa, kraj: Mauritania czas: ['2023-11-13 18:44:12.105710+00:00']\n",
      "kontynent: Africa, kraj: Mauritius czas: ['2023-11-13 22:44:12.105710+04:00']\n",
      "kontynent: Africa, kraj: Malawi czas: ['2023-11-13 20:44:12.105710+02:00']\n",
      "kontynent: Africa, kraj: Mozambique czas: ['2023-11-13 20:44:12.105710+02:00']\n",
      "kontynent: Africa, kraj: Namibia czas: ['2023-11-13 20:44:12.105710+02:00']\n",
      "kontynent: Africa, kraj: Niger czas: ['2023-11-13 19:44:12.105710+01:00']\n",
      "kontynent: Africa, kraj: Nigeria czas: ['2023-11-13 19:44:12.105710+01:00']\n",
      "kontynent: Africa, kraj: Rwanda czas: ['2023-11-13 20:44:12.105710+02:00']\n",
      "kontynent: Africa, kraj: Seychelles czas: ['2023-11-13 22:44:12.105710+04:00']\n",
      "kontynent: Africa, kraj: Sudan czas: ['2023-11-13 20:44:12.105710+02:00']\n",
      "kontynent: Africa, kraj: Sierra Leone czas: ['2023-11-13 18:44:12.105710+00:00']\n",
      "kontynent: Africa, kraj: Senegal czas: ['2023-11-13 18:44:12.105710+00:00']\n",
      "kontynent: Africa, kraj: Somalia czas: ['2023-11-13 21:44:12.105710+03:00']\n",
      "kontynent: Africa, kraj: SÃ£o TomÃ© and PrÃ­ncipe czas: ['2023-11-13 18:44:12.105710+00:00']\n",
      "kontynent: Africa, kraj: Togo czas: ['2023-11-13 18:44:12.105710+00:00']\n",
      "kontynent: Africa, kraj: Tunisia czas: ['2023-11-13 19:44:12.105710+01:00']\n",
      "kontynent: Africa, kraj: Tanzania czas: ['2023-11-13 21:44:12.105710+03:00']\n",
      "kontynent: Africa, kraj: Uganda czas: ['2023-11-13 21:44:12.105710+03:00']\n",
      "kontynent: Africa, kraj: Zambia czas: ['2023-11-13 20:44:12.105710+02:00']\n",
      "kontynent: Africa, kraj: Zimbabwe czas: ['2023-11-13 20:44:12.105710+02:00']\n",
      "kontynent: Africa, kraj: Algeria czas: ['2023-11-13 19:44:12.105710+01:00']\n",
      "kontynent: Africa, kraj: Central African Republic czas: ['2023-11-13 19:44:12.105710+01:00']\n",
      "kontynent: Africa, kraj: Chad czas: ['2023-11-13 19:44:12.105710+01:00']\n",
      "kontynent: Africa, kraj: Comoros czas: ['2023-11-13 21:44:12.105710+03:00']\n",
      "kontynent: Africa, kraj: Equatorial Guinea czas: ['2023-11-13 19:44:12.105710+01:00']\n",
      "kontynent: Africa, kraj: Morocco czas: ['2023-11-13 19:44:12.105710+01:00']\n",
      "kontynent: Africa, kraj: South Africa czas: ['2023-11-13 20:44:12.105710+02:00']\n",
      "kontynent: Africa, kraj: Swaziland czas: ['2023-11-13 20:44:12.105710+02:00']\n",
      "kontynent: Asia, kraj: Afghanistan czas: ['2023-11-13 23:14:12.105710+04:30']\n",
      "kontynent: Asia, kraj: Armenia czas: ['2023-11-13 22:44:12.105710+04:00']\n",
      "kontynent: Asia, kraj: Azerbaijan czas: ['2023-11-13 22:44:12.105710+04:00']\n",
      "kontynent: Asia, kraj: Bangladesh czas: ['2023-11-14 00:44:12.105710+06:00']\n",
      "kontynent: Asia, kraj: Bahrain czas: ['2023-11-13 21:44:12.105710+03:00']\n",
      "kontynent: Asia, kraj: Brunei Darussalam czas: ['2023-11-14 02:44:12.105710+08:00']\n",
      "kontynent: Asia, kraj: Bhutan czas: ['2023-11-14 00:44:12.105710+06:00']\n",
      "kontynent: Asia, kraj: People's Republic of China czas: ['2023-11-14 02:44:12.105710+08:00', '2023-11-14 02:44:12.105710+08:00', '2023-11-14 02:44:12.105710+08:00', '2023-11-14 00:44:12.105710+06:00', '2023-11-14 00:44:12.105710+06:00']\n",
      "kontynent: Asia, kraj: Cyprus czas: ['2023-11-13 20:44:12.105710+02:00']\n",
      "kontynent: Asia, kraj: Georgia czas: ['2023-11-13 22:44:12.105710+04:00']\n",
      "kontynent: Asia, kraj: Indonesia czas: ['2023-11-14 01:44:12.105710+07:00', '2023-11-14 01:44:12.105710+07:00', '2023-11-14 02:44:12.105710+08:00', '2023-11-14 03:44:12.105710+09:00']\n",
      "kontynent: Asia, kraj: Israel czas: ['2023-11-13 20:44:12.105710+02:00']\n",
      "kontynent: Asia, kraj: India czas: ['2023-11-14 00:14:12.105710+05:30']\n",
      "kontynent: Asia, kraj: Iraq czas: ['2023-11-13 21:44:12.105710+03:00']\n",
      "kontynent: Asia, kraj: Iran czas: ['2023-11-13 22:14:12.105710+03:30']\n",
      "kontynent: Asia, kraj: Jordan czas: ['2023-11-13 21:44:12.105710+03:00']\n",
      "kontynent: Asia, kraj: Japan czas: ['2023-11-14 03:44:12.105710+09:00']\n",
      "kontynent: Asia, kraj: Kyrgyzstan czas: ['2023-11-14 00:44:12.105710+06:00']\n",
      "kontynent: Asia, kraj: North Korea czas: ['2023-11-14 03:44:12.105710+09:00']\n",
      "kontynent: Asia, kraj: South Korea czas: ['2023-11-14 03:44:12.105710+09:00']\n",
      "kontynent: Asia, kraj: Kuwait czas: ['2023-11-13 21:44:12.105710+03:00']\n",
      "kontynent: Asia, kraj: Lebanon czas: ['2023-11-13 20:44:12.105710+02:00']\n",
      "kontynent: Asia, kraj: Myanmar czas: ['2023-11-14 01:14:12.105710+06:30']\n",
      "kontynent: Asia, kraj: Mongolia czas: ['2023-11-14 02:44:12.105710+08:00', '2023-11-14 01:44:12.105710+07:00', '2023-11-14 02:44:12.105710+08:00']\n",
      "kontynent: Asia, kraj: Maldives czas: ['2023-11-13 23:44:12.105710+05:00']\n",
      "kontynent: Asia, kraj: Malaysia czas: ['2023-11-14 02:44:12.105710+08:00', '2023-11-14 02:44:12.105710+08:00']\n",
      "kontynent: Asia, kraj: Nepal czas: ['2023-11-14 00:29:12.105710+05:45']\n",
      "kontynent: Asia, kraj: Oman czas: ['2023-11-13 22:44:12.105710+04:00']\n",
      "kontynent: Asia, kraj: Philippines czas: ['2023-11-14 02:44:12.105710+08:00']\n",
      "kontynent: Asia, kraj: Pakistan czas: ['2023-11-13 23:44:12.105710+05:00']\n",
      "kontynent: Asia, kraj: Qatar czas: ['2023-11-13 21:44:12.105710+03:00']\n",
      "kontynent: Asia, kraj: Saudi Arabia czas: ['2023-11-13 21:44:12.105710+03:00']\n",
      "kontynent: Asia, kraj: Singapore czas: ['2023-11-14 02:44:12.105710+08:00']\n",
      "kontynent: Asia, kraj: Syria czas: ['2023-11-13 21:44:12.105710+03:00']\n",
      "kontynent: Asia, kraj: Thailand czas: ['2023-11-14 01:44:12.105710+07:00']\n",
      "kontynent: Asia, kraj: Tajikistan czas: ['2023-11-13 23:44:12.105710+05:00']\n",
      "kontynent: Asia, kraj: Turkmenistan czas: ['2023-11-13 23:44:12.105710+05:00']\n",
      "kontynent: Asia, kraj: Turkey czas: ['2023-11-13 21:44:12.105710+03:00']\n",
      "kontynent: Asia, kraj: Uzbekistan czas: ['2023-11-13 23:44:12.105710+05:00', '2023-11-13 23:44:12.105710+05:00']\n",
      "kontynent: Asia, kraj: Vietnam czas: ['2023-11-14 01:44:12.105710+07:00']\n",
      "kontynent: Asia, kraj: Yemen czas: ['2023-11-13 21:44:12.105710+03:00']\n",
      "kontynent: Asia, kraj: Cambodia czas: ['2023-11-14 01:44:12.105710+07:00']\n",
      "kontynent: Asia, kraj: East Timor czas: ['2023-11-14 03:44:12.105710+09:00']\n",
      "kontynent: Asia, kraj: Kazakhstan czas: ['2023-11-14 00:44:12.105710+06:00', '2023-11-13 23:44:12.105710+05:00', '2023-11-13 23:44:12.105710+05:00', '2023-11-13 23:44:12.105710+05:00', '2023-11-13 23:44:12.105710+05:00']\n",
      "kontynent: Asia, kraj: Laos czas: ['2023-11-14 01:44:12.105710+07:00']\n",
      "kontynent: Asia, kraj: Sri Lanka czas: ['2023-11-14 00:14:12.105710+05:30']\n",
      "kontynent: Asia, kraj: United Arab Emirates czas: ['2023-11-13 22:44:12.105710+04:00']\n",
      "kontynent: Europe, kraj: Andorra czas: ['2023-11-13 19:44:12.105710+01:00']\n",
      "kontynent: Europe, kraj: Albania czas: ['2023-11-13 19:44:12.105710+01:00']\n",
      "kontynent: Europe, kraj: Austria czas: ['2023-11-13 19:44:12.105710+01:00']\n",
      "kontynent: Europe, kraj: Belgium czas: ['2023-11-13 19:44:12.105710+01:00']\n",
      "kontynent: Europe, kraj: Bulgaria czas: ['2023-11-13 20:44:12.105710+02:00']\n",
      "kontynent: Europe, kraj: Belarus czas: ['2023-11-13 21:44:12.105710+03:00']\n",
      "kontynent: Europe, kraj: Czech Republic czas: ['2023-11-13 19:44:12.105710+01:00']\n",
      "kontynent: Europe, kraj: Germany czas: ['2023-11-13 19:44:12.105710+01:00']\n",
      "kontynent: Europe, kraj: Denmark czas: ['2023-11-13 19:44:12.105710+01:00']\n",
      "kontynent: Europe, kraj: Estonia czas: ['2023-11-13 20:44:12.105710+02:00']\n",
      "kontynent: Europe, kraj: Finland czas: ['2023-11-13 20:44:12.105710+02:00']\n",
      "kontynent: Europe, kraj: France czas: ['2023-11-13 19:44:12.105710+01:00']\n",
      "kontynent: Europe, kraj: Greece czas: ['2023-11-13 20:44:12.105710+02:00']\n",
      "kontynent: Europe, kraj: Hungary czas: ['2023-11-13 19:44:12.105710+01:00']\n",
      "kontynent: Europe, kraj: Republic of Ireland czas: ['2023-11-13 18:44:12.105710+00:00']\n",
      "kontynent: Europe, kraj: Iceland czas: ['2023-11-13 18:44:12.105710+00:00']\n",
      "kontynent: Europe, kraj: Italy czas: ['2023-11-13 19:44:12.105710+01:00']\n",
      "kontynent: Europe, kraj: Liechtenstein czas: ['2023-11-13 19:44:12.105710+01:00']\n",
      "kontynent: Europe, kraj: Lithuania czas: ['2023-11-13 20:44:12.105710+02:00']\n",
      "kontynent: Europe, kraj: Luxembourg czas: ['2023-11-13 19:44:12.105710+01:00']\n",
      "kontynent: Europe, kraj: Latvia czas: ['2023-11-13 20:44:12.105710+02:00']\n",
      "kontynent: Europe, kraj: Macedonia czas: ['2023-11-13 19:44:12.105710+01:00']\n",
      "kontynent: Europe, kraj: Malta czas: ['2023-11-13 19:44:12.105710+01:00']\n",
      "kontynent: Europe, kraj: Kingdom of the Netherlands czas: ['2023-11-13 19:44:12.105710+01:00']\n",
      "kontynent: Europe, kraj: Norway czas: ['2023-11-13 19:44:12.105710+01:00']\n",
      "kontynent: Europe, kraj: Poland czas: ['2023-11-13 19:44:12.105710+01:00']\n",
      "kontynent: Europe, kraj: Portugal czas: ['2023-11-13 18:44:12.105710+00:00', '2023-11-13 18:44:12.105710+00:00', '2023-11-13 17:44:12.105710-01:00']\n",
      "kontynent: Europe, kraj: Romania czas: ['2023-11-13 20:44:12.105710+02:00']\n",
      "kontynent: Europe, kraj: Russia czas: ['2023-11-13 20:44:12.105710+02:00', '2023-11-13 21:44:12.105710+03:00', '2023-11-13 21:44:12.105710+03:00', '2023-11-13 22:44:12.105710+04:00', '2023-11-13 23:44:12.105710+05:00', '2023-11-14 00:44:12.105710+06:00', '2023-11-14 01:44:12.105710+07:00', '2023-11-14 01:44:12.105710+07:00', '2023-11-14 02:44:12.105710+08:00', '2023-11-14 03:44:12.105710+09:00', '2023-11-14 04:44:12.105710+10:00', '2023-11-14 05:44:12.105710+11:00', '2023-11-14 05:44:12.105710+11:00', '2023-11-14 06:44:12.105710+12:00', '2023-11-14 06:44:12.105710+12:00']\n",
      "kontynent: Europe, kraj: Sweden czas: ['2023-11-13 19:44:12.105710+01:00']\n",
      "kontynent: Europe, kraj: Slovenia czas: ['2023-11-13 19:44:12.105710+01:00']\n",
      "kontynent: Europe, kraj: Slovakia czas: ['2023-11-13 19:44:12.105710+01:00']\n",
      "kontynent: Europe, kraj: San Marino czas: ['2023-11-13 19:44:12.105710+01:00']\n",
      "kontynent: Europe, kraj: Ukraine czas: ['2023-11-13 20:44:12.105710+02:00', '2023-11-13 20:44:12.105710+02:00', '2023-11-13 20:44:12.105710+02:00', '2023-11-13 21:44:12.105710+03:00']\n",
      "kontynent: Europe, kraj: Vatican City czas: ['2023-11-13 19:44:12.105710+01:00']\n",
      "kontynent: Europe, kraj: Bosnia and Herzegovina czas: ['2023-11-13 19:44:12.105710+01:00']\n",
      "kontynent: Europe, kraj: Croatia czas: ['2023-11-13 19:44:12.105710+01:00']\n",
      "kontynent: Europe, kraj: Moldova czas: ['2023-11-13 20:44:12.105710+02:00']\n",
      "kontynent: Europe, kraj: Monaco czas: ['2023-11-13 19:44:12.105710+01:00']\n",
      "kontynent: Europe, kraj: Montenegro czas: ['2023-11-13 19:44:12.105710+01:00']\n",
      "kontynent: Europe, kraj: Serbia czas: ['2023-11-13 19:44:12.105710+01:00']\n",
      "kontynent: Europe, kraj: Spain czas: ['2023-11-13 19:44:12.105710+01:00', '2023-11-13 19:44:12.105710+01:00', '2023-11-13 18:44:12.105710+00:00']\n",
      "kontynent: Europe, kraj: Switzerland czas: ['2023-11-13 19:44:12.105710+01:00']\n",
      "kontynent: Europe, kraj: United Kingdom czas: ['2023-11-13 18:44:12.105710+00:00']\n",
      "kontynent: North America, kraj: Antigua and Barbuda czas: ['2023-11-13 14:44:12.105710-04:00']\n",
      "kontynent: North America, kraj: Barbados czas: ['2023-11-13 14:44:12.105710-04:00']\n",
      "kontynent: North America, kraj: Bahamas czas: ['2023-11-13 13:44:12.105710-05:00']\n",
      "kontynent: North America, kraj: Belize czas: ['2023-11-13 12:44:12.105710-06:00']\n",
      "kontynent: North America, kraj: Canada czas: ['2023-11-13 15:14:12.105710-03:30', '2023-11-13 14:44:12.105710-04:00', '2023-11-13 14:44:12.105710-04:00', '2023-11-13 14:44:12.105710-04:00', '2023-11-13 14:44:12.105710-04:00', '2023-11-13 14:44:12.105710-04:00', '2023-11-13 13:44:12.105710-05:00', '2023-11-13 13:44:12.105710-05:00', '2023-11-13 13:44:12.105710-05:00', '2023-11-13 13:44:12.105710-05:00', '2023-11-13 13:44:12.105710-05:00', '2023-11-13 13:44:12.105710-05:00', '2023-11-13 13:44:12.105710-05:00', '2023-11-13 12:44:12.105710-06:00', '2023-11-13 12:44:12.105710-06:00', '2023-11-13 12:44:12.105710-06:00', '2023-11-13 11:44:12.105710-07:00', '2023-11-13 12:44:12.105710-06:00', '2023-11-13 12:44:12.105710-06:00', '2023-11-13 11:44:12.105710-07:00', '2023-11-13 11:44:12.105710-07:00', '2023-11-13 11:44:12.105710-07:00', '2023-11-13 11:44:12.105710-07:00', '2023-11-13 10:44:12.105710-08:00', '2023-11-13 11:44:12.105710-07:00', '2023-11-13 11:44:12.105710-07:00']\n",
      "kontynent: North America, kraj: Costa Rica czas: ['2023-11-13 12:44:12.105710-06:00']\n",
      "kontynent: North America, kraj: Cuba czas: ['2023-11-13 13:44:12.105710-05:00']\n",
      "kontynent: North America, kraj: Dominica czas: ['2023-11-13 14:44:12.105710-04:00']\n",
      "kontynent: North America, kraj: Dominican Republic czas: ['2023-11-13 14:44:12.105710-04:00']\n",
      "kontynent: North America, kraj: Guatemala czas: ['2023-11-13 12:44:12.105710-06:00']\n",
      "kontynent: North America, kraj: Haiti czas: ['2023-11-13 12:44:12.105710-06:00']\n",
      "kontynent: North America, kraj: Honduras czas: ['2023-11-13 12:44:12.105710-06:00']\n",
      "kontynent: North America, kraj: Jamaica czas: ['2023-11-13 13:44:12.105710-05:00']\n",
      "kontynent: North America, kraj: Mexico czas: ['2023-11-13 12:44:12.105710-06:00', '2023-11-13 13:44:12.105710-05:00', '2023-11-13 12:44:12.105710-06:00', '2023-11-13 12:44:12.105710-06:00', '2023-11-13 11:44:12.105710-07:00', '2023-11-13 12:44:12.105710-06:00', '2023-11-13 11:44:12.105710-07:00', '2023-11-13 10:44:12.105710-08:00']\n",
      "kontynent: North America, kraj: Nicaragua czas: ['2023-11-13 12:44:12.105710-06:00']\n",
      "kontynent: North America, kraj: Panama czas: ['2023-11-13 13:44:12.105710-05:00']\n",
      "kontynent: North America, kraj: Trinidad and Tobago czas: ['2023-11-13 14:44:12.105710-04:00']\n",
      "kontynent: North America, kraj: United States czas: ['2023-11-13 13:44:12.105710-05:00', '2023-11-13 13:44:12.105710-05:00', '2023-11-13 13:44:12.105710-05:00', '2023-11-13 13:44:12.105710-05:00', '2023-11-13 13:44:12.105710-05:00', '2023-11-13 13:44:12.105710-05:00', '2023-11-13 12:44:12.105710-06:00', '2023-11-13 13:44:12.105710-05:00', '2023-11-13 12:44:12.105710-06:00', '2023-11-13 13:44:12.105710-05:00', '2023-11-13 13:44:12.105710-05:00', '2023-11-13 12:44:12.105710-06:00', '2023-11-13 12:44:12.105710-06:00', '2023-11-13 12:44:12.105710-06:00', '2023-11-13 11:44:12.105710-07:00', '2023-11-13 11:44:12.105710-07:00', '2023-11-13 11:44:12.105710-07:00', '2023-11-13 11:44:12.105710-07:00', '2023-11-13 10:44:12.105710-08:00', '2023-11-13 09:44:12.105710-09:00', '2023-11-13 09:44:12.105710-09:00', '2023-11-13 09:44:12.105710-09:00', '2023-11-13 09:44:12.105710-09:00', '2023-11-13 08:44:12.105710-10:00', '2023-11-13 08:44:12.105710-10:00']\n",
      "kontynent: North America, kraj: El Salvador czas: ['2023-11-13 12:44:12.105710-06:00']\n",
      "kontynent: North America, kraj: Grenada czas: ['2023-11-13 14:44:12.105710-04:00']\n",
      "kontynent: North America, kraj: Saint Kitts and Nevis czas: ['2023-11-13 14:44:12.105710-04:00']\n",
      "kontynent: North America, kraj: Saint Lucia czas: ['2023-11-13 14:44:12.105710-04:00']\n",
      "kontynent: North America, kraj: Saint Vincent and the Grenadines czas: ['2023-11-13 14:44:12.105710-04:00']\n",
      "kontynent: Oceania, kraj: Australia czas: ['2023-11-14 05:44:12.105710+11:00', '2023-11-14 05:44:12.105710+11:00', '2023-11-14 05:44:12.105710+11:00', '2023-11-14 05:44:12.105710+11:00', '2023-11-14 05:44:12.105710+11:00', '2023-11-14 05:14:12.105710+10:30', '2023-11-14 04:44:12.105710+10:00', '2023-11-14 04:44:12.105710+10:00', '2023-11-14 05:14:12.105710+10:30', '2023-11-14 04:14:12.105710+09:30', '2023-11-14 02:44:12.105710+08:00']\n",
      "kontynent: Oceania, kraj: Fiji czas: ['2023-11-14 06:44:12.105710+12:00']\n",
      "kontynent: Oceania, kraj: Kiribati czas: ['2023-11-14 06:44:12.105710+12:00', '2023-11-14 07:44:12.105710+13:00', '2023-11-14 08:44:12.105710+14:00']\n",
      "kontynent: Oceania, kraj: Marshall Islands czas: ['2023-11-14 06:44:12.105710+12:00', '2023-11-14 06:44:12.105710+12:00']\n",
      "kontynent: Oceania, kraj: Nauru czas: ['2023-11-14 06:44:12.105710+12:00']\n",
      "kontynent: Oceania, kraj: New Zealand czas: ['2023-11-14 07:44:12.105710+13:00', '2023-11-14 08:29:12.105710+13:45']\n",
      "kontynent: Oceania, kraj: Papua New Guinea czas: ['2023-11-14 04:44:12.105710+10:00']\n",
      "kontynent: Oceania, kraj: Palau czas: ['2023-11-14 03:44:12.105710+09:00']\n",
      "kontynent: Oceania, kraj: Solomon Islands czas: ['2023-11-14 05:44:12.105710+11:00']\n",
      "kontynent: Oceania, kraj: Tonga czas: ['2023-11-14 07:44:12.105710+13:00']\n",
      "kontynent: Oceania, kraj: Tuvalu czas: ['2023-11-14 06:44:12.105710+12:00']\n",
      "kontynent: Oceania, kraj: Vanuatu czas: ['2023-11-14 05:44:12.105710+11:00']\n",
      "kontynent: Oceania, kraj: Federated States of Micronesia czas: ['2023-11-14 04:44:12.105710+10:00', '2023-11-14 05:44:12.105710+11:00', '2023-11-14 05:44:12.105710+11:00']\n",
      "kontynent: Oceania, kraj: Samoa czas: ['2023-11-14 07:44:12.105710+13:00']\n",
      "kontynent: South America, kraj: Argentina czas: ['2023-11-13 15:44:12.105710-03:00', '2023-11-13 15:44:12.105710-03:00', '2023-11-13 15:44:12.105710-03:00', '2023-11-13 15:44:12.105710-03:00', '2023-11-13 15:44:12.105710-03:00', '2023-11-13 15:44:12.105710-03:00', '2023-11-13 15:44:12.105710-03:00', '2023-11-13 15:44:12.105710-03:00', '2023-11-13 15:44:12.105710-03:00', '2023-11-13 15:44:12.105710-03:00']\n",
      "kontynent: South America, kraj: Bolivia czas: ['2023-11-13 14:44:12.105710-04:00']\n",
      "kontynent: South America, kraj: Brazil czas: ['2023-11-13 16:44:12.105710-02:00', '2023-11-13 15:44:12.105710-03:00', '2023-11-13 15:44:12.105710-03:00', '2023-11-13 15:44:12.105710-03:00', '2023-11-13 15:44:12.105710-03:00', '2023-11-13 15:44:12.105710-03:00', '2023-11-13 15:44:12.105710-03:00', '2023-11-13 15:44:12.105710-03:00', '2023-11-13 14:44:12.105710-04:00', '2023-11-13 14:44:12.105710-04:00', '2023-11-13 14:44:12.105710-04:00', '2023-11-13 14:44:12.105710-04:00', '2023-11-13 14:44:12.105710-04:00', '2023-11-13 13:44:12.105710-05:00', '2023-11-13 13:44:12.105710-05:00']\n",
      "kontynent: South America, kraj: Chile czas: ['2023-11-13 15:44:12.105710-03:00', '2023-11-13 13:44:12.105710-05:00']\n",
      "kontynent: South America, kraj: Colombia czas: ['2023-11-13 13:44:12.105710-05:00']\n",
      "kontynent: South America, kraj: Ecuador czas: ['2023-11-13 13:44:12.105710-05:00', '2023-11-13 12:44:12.105710-06:00']\n",
      "kontynent: South America, kraj: Guyana czas: ['2023-11-13 14:44:12.105710-04:00']\n",
      "kontynent: South America, kraj: Peru czas: ['2023-11-13 13:44:12.105710-05:00']\n",
      "kontynent: South America, kraj: Paraguay czas: ['2023-11-13 15:44:12.105710-03:00']\n",
      "kontynent: South America, kraj: Suriname czas: ['2023-11-13 15:44:12.105710-03:00']\n",
      "kontynent: South America, kraj: Uruguay czas: ['2023-11-13 15:44:12.105710-03:00']\n",
      "kontynent: South America, kraj: Venezuela czas: ['2023-11-13 14:44:12.105710-04:00']\n"
     ]
    }
   ],
   "source": [
    "def print_time_info(utc_now):\n",
    "    for country in sorted(countries,key=lambda x: x[\"continent\"]):\n",
    "        country_timezone_list = [pytz.timezone(x) for x in country[\"timezones\"]]\n",
    "        country_times_list = [str(utc_now.replace(tzinfo=pytz.utc).astimezone(x)) for x in country_timezone_list]\n",
    "\n",
    "        print(f\"kontynent: {country['continent']}, kraj: {country['name']} czas: {country_times_list}\")\n",
    "    \n",
    "print_time_info(datetime.utcnow())"
   ]
  },
  {
   "cell_type": "code",
   "execution_count": 10,
   "metadata": {},
   "outputs": [
    {
     "name": "stdout",
     "output_type": "stream",
     "text": [
      "wybiła północ w: {'Uzbekistan', 'Maldives', 'Pakistan', 'Tajikistan', 'Kazakhstan', 'Turkmenistan', 'Russia'}\n",
      "wybiła północ w: {'Afghanistan'}\n",
      "wybiła północ w: {'Mauritius', 'Azerbaijan', 'Georgia', 'Seychelles', 'United Arab Emirates', 'Oman', 'Armenia', 'Russia'}\n",
      "wybiła północ w: {'Iran'}\n",
      "wybiła północ w: {'Bahrain', 'Comoros', 'Turkey', 'Somalia', 'Belarus', 'Uganda', 'Kenya', 'Ukraine', 'Eritrea', 'Jordan', 'Djibouti', 'Ethiopia', 'Iraq', 'Kuwait', 'Qatar', 'Saudi Arabia', 'Yemen', 'Russia', 'Tanzania', 'Syria', 'Madagascar'}\n",
      "wybiła północ w: {'Democratic Republic of the Congo', 'Greece', 'Israel', 'Libya', 'Namibia', 'Egypt', 'Moldova', 'Zimbabwe', 'Romania', 'Finland', 'Malawi', 'South Africa', 'Ukraine', 'Lebanon', 'Cyprus', 'Sudan', 'Mozambique', 'Swaziland', 'Zambia', 'Russia', 'Bulgaria', 'Lesotho', 'Rwanda', 'Latvia', 'Burundi', 'Estonia', 'Botswana', 'Lithuania'}\n",
      "wybiła północ w: {'Benin', 'Democratic Republic of the Congo', 'Gabon', 'France', 'Norway', 'Algeria', 'Morocco', 'Monaco', 'Liechtenstein', 'Montenegro', 'Malta', 'Belgium', 'Italy', 'Vatican City', 'Albania', 'Czech Republic', 'Equatorial Guinea', 'Poland', 'Austria', 'Hungary', 'Croatia', 'Slovakia', 'Slovenia', 'Andorra', 'Niger', 'Denmark', 'Bosnia and Herzegovina', 'Macedonia', 'Serbia', 'Chad', 'Central African Republic', 'Nigeria', 'Switzerland', 'Cameroon', 'Luxembourg', 'Republic of the Congo', 'Kingdom of the Netherlands', 'Sweden', 'Germany', 'Spain', 'Angola', 'Tunisia', 'San Marino'}\n",
      "wybiła północ w: {'Iceland', 'Ghana', 'Guinea', 'Burkina Faso', 'The Gambia', 'Sierra Leone', 'United Kingdom', \"CÃ´te d'Ivoire\", 'Mali', 'Mauritania', 'Togo', 'Republic of Ireland', 'Guinea-Bissau', 'Senegal', 'Liberia', 'Spain', 'SÃ£o TomÃ© and PrÃ\\xadncipe', 'Portugal'}\n",
      "wybiła północ w: {'Cape Verde', 'Portugal'}\n",
      "wybiła północ w: {'Brazil'}\n",
      "wybiła północ w: {'Paraguay', 'Chile', 'Argentina', 'Uruguay', 'Brazil', 'Suriname'}\n",
      "wybiła północ w: {'Canada'}\n",
      "wybiła północ w: {'Saint Kitts and Nevis', 'Antigua and Barbuda', 'Bolivia', 'Barbados', 'Saint Vincent and the Grenadines', 'Guyana', 'Trinidad and Tobago', 'Brazil', 'Canada', 'Dominican Republic', 'Venezuela', 'Saint Lucia', 'Dominica', 'Grenada'}\n",
      "wybiła północ w: {'Cuba', 'Ecuador', 'Chile', 'Colombia', 'Mexico', 'Jamaica', 'Bahamas', 'Brazil', 'Canada', 'Panama', 'Peru', 'United States'}\n",
      "wybiła północ w: {'Guatemala', 'Costa Rica', 'El Salvador', 'Ecuador', 'Mexico', 'Haiti', 'Canada', 'United States', 'Honduras', 'Belize', 'Nicaragua'}\n",
      "wybiła północ w: {'United States', 'Mexico', 'Canada'}\n",
      "wybiła północ w: {'United States', 'Mexico', 'Canada'}\n",
      "wybiła północ w: {'United States'}\n",
      "wybiła północ w: {'United States', 'Kiribati'}\n",
      "wybiła północ w: {'New Zealand'}\n",
      "wybiła północ w: {'Samoa', 'New Zealand', 'Tonga', 'Kiribati'}\n",
      "wybiła północ w: {'Tuvalu', 'Nauru', 'Marshall Islands', 'Kiribati', 'Russia', 'Fiji'}\n",
      "wybiła północ w: {'Solomon Islands', 'Vanuatu', 'Australia', 'Russia', 'Federated States of Micronesia'}\n",
      "wybiła północ w: {'Australia'}\n",
      "wybiła północ w: {'Papua New Guinea', 'Australia', 'Russia', 'Federated States of Micronesia'}\n",
      "wybiła północ w: {'Australia'}\n",
      "wybiła północ w: {'Palau', 'Indonesia', 'South Korea', 'Japan', 'East Timor', 'Russia', 'North Korea'}\n",
      "wybiła północ w: {'Singapore', 'Mongolia', \"People's Republic of China\", 'Indonesia', 'Brunei Darussalam', 'Australia', 'Malaysia', 'Russia', 'Philippines'}\n",
      "wybiła północ w: {'Mongolia', 'Indonesia', 'Laos', 'Thailand', 'Cambodia', 'Vietnam', 'Russia'}\n",
      "wybiła północ w: {'Myanmar'}\n",
      "wybiła północ w: {\"People's Republic of China\", 'Bhutan', 'Bangladesh', 'Kazakhstan', 'Kyrgyzstan', 'Russia'}\n",
      "wybiła północ w: {'Nepal'}\n",
      "wybiła północ w: {'Sri Lanka', 'India'}\n"
     ]
    }
   ],
   "source": [
    "def timezone_calculate(timezone, utc_now):\n",
    "    _time = utc_now.replace(tzinfo=pytz.utc).astimezone(pytz.timezone(timezone))\n",
    "    return _time.hour * 60 + _time.minute \n",
    "\n",
    "def sort_by_timezone():\n",
    "    utc_now = datetime.utcnow()\n",
    "    timezone_dict = dict()\n",
    "    for _dict in countries:\n",
    "        timezones_list = _dict[\"timezones\"]\n",
    "        for timezone in timezones_list:\n",
    "            time_from_timezone = timezone_calculate(timezone, utc_now)\n",
    "            if time_from_timezone in timezone_dict:\n",
    "                timezone_dict[time_from_timezone].add(_dict[\"name\"])\n",
    "            else:\n",
    "                timezone_dict[time_from_timezone] = {_dict[\"name\"]}\n",
    "    return sorted(timezone_dict.items(), key=lambda x: -x[0])\n",
    "\n",
    "data = sort_by_timezone() \n",
    "\n",
    "#time.sleep((1440-data[0][0])*60)\n",
    "\n",
    "#while True:\n",
    "for x in data:\n",
    "    print(f\"wybiła północ w: {x[1]}\")\n",
    "        #time.sleep(1200)"
   ]
  },
  {
   "cell_type": "markdown",
   "metadata": {},
   "source": [
    "## Zadanie 5"
   ]
  },
  {
   "cell_type": "markdown",
   "metadata": {},
   "source": [
    "Dla klasy `BagOfWords` napisz metody `save` oraz `load` wykorzystujące `json`'a do zapisu i odczytu danych."
   ]
  },
  {
   "cell_type": "code",
   "execution_count": 11,
   "metadata": {},
   "outputs": [
    {
     "name": "stdout",
     "output_type": "stream",
     "text": [
      "Liczba wystąpień słowa 'hamlet': 125\n",
      "10 najczęściej występujących słów:\n",
      "the 1348\n",
      "and 1106\n",
      "to 888\n",
      "of 887\n",
      "you 664\n",
      "a 646\n",
      "i 631\n",
      "in 520\n",
      "my 520\n",
      "it 447\n"
     ]
    }
   ],
   "source": [
    "url_json = \"lab07_files/hamlet_saved.json\"\n",
    "\n",
    "hamlet_bag.save(url_json)\n",
    "\n",
    "hamlet_loaded_from_json = BagOfWords()\n",
    "hamlet_loaded_from_json.load(url_json)\n",
    "\n",
    "print(\"Liczba wystąpień słowa 'hamlet':\", hamlet_loaded_from_json['hamlet'])\n",
    "\n",
    "print(\"10 najczęściej występujących słów:\")\n",
    "for word in list(hamlet_loaded_from_json)[:10]:\n",
    "    print(word, hamlet_loaded_from_json[word])\n"
   ]
  }
 ],
 "metadata": {
  "kernelspec": {
   "display_name": "Python 3 (ipykernel)",
   "language": "python",
   "name": "python3"
  },
  "language_info": {
   "codemirror_mode": {
    "name": "ipython",
    "version": 3
   },
   "file_extension": ".py",
   "mimetype": "text/x-python",
   "name": "python",
   "nbconvert_exporter": "python",
   "pygments_lexer": "ipython3",
   "version": "3.11.6"
  }
 },
 "nbformat": 4,
 "nbformat_minor": 2
}
